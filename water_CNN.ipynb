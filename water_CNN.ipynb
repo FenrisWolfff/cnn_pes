{
 "cells": [
  {
   "cell_type": "code",
   "execution_count": 1,
   "metadata": {},
   "outputs": [],
   "source": [
    "import h5py\n",
    "import numpy as np\n",
    "import matplotlib.pyplot as plt\n",
    "from pyvibdmc.analysis import *\n",
    "from pyvibdmc.simulation_utilities import *\n",
    "import tensorflow as tf\n",
    "from tensorflow.keras import layers, models"
   ]
  },
  {
   "cell_type": "code",
   "execution_count": 4,
   "metadata": {},
   "outputs": [],
   "source": [
    "def load_training(training_name):\n",
    "    \"\"\"If using deb_training_every argument, read the files with this.\"\"\"\n",
    "    with h5py.File(training_name, 'r') as f:\n",
    "        cds = f['coords'][:]\n",
    "        vs = f['pots'][:]\n",
    "    return cds, Constants.convert(vs, \"wavenumbers\", to_AU=False)\n",
    "\n",
    "\n",
    "def get_ml_data(ts):\n",
    "    tot_x = []\n",
    "    tot_v = []\n",
    "    for time in ts:\n",
    "        cds, vs = load_training(f\"training_water_dt1_1_training_{time}ts.hdf5\")\n",
    "        tot_x.append(cds.squeeze())\n",
    "        tot_v.append(vs)\n",
    "    tot_x = np.concatenate(tot_x)\n",
    "    tot_v = np.concatenate(tot_v)\n",
    "    return tot_x, tot_v\n",
    "\n",
    "\n",
    "\n",
    "def pre_process(x):\n",
    "    \n",
    "    X_MIN = 0\n",
    "    X_MAX = 5\n",
    "    \n",
    "    def dis_map(coord):\n",
    "        dis_generator = lambda i,j: np.linalg.norm(coord[i]-coord[j])\n",
    "        full_map = np.fromfunction(np.vectorize(dis_generator), (3,3), dtype=int)\n",
    "        return np.triu(full_map)\n",
    "\n",
    "    def normalize(x):\n",
    "        return (x-X_MIN)/(X_MAX-X_MIN)\n",
    "\n",
    "#     def padding(x):\n",
    "#         return np.pad(x, ((1,1),(1,1)))\n",
    "\n",
    "    x = np.array([[dis_map(cd)] for cd in x])\n",
    "    return normalize(x)\n",
    "\n",
    "\n",
    "tss = [100, 200, 300, 400, 500]\n",
    "tss = [100, 200]\n",
    "train_x, train_y = get_ml_data(tss)\n",
    "train_x = pre_process(train_x)\n",
    "\n",
    "val_set = [800]\n",
    "val_x, val_y = get_ml_data(val_set)\n",
    "val_x = pre_process(val_x)"
   ]
  },
  {
   "cell_type": "code",
   "execution_count": 5,
   "metadata": {},
   "outputs": [
    {
     "data": {
      "text/plain": [
       "(20001, 1, 3, 3)"
      ]
     },
     "execution_count": 5,
     "metadata": {},
     "output_type": "execute_result"
    }
   ],
   "source": [
    "train_x.shape"
   ]
  },
  {
   "cell_type": "code",
   "execution_count": 196,
   "metadata": {},
   "outputs": [
    {
     "name": "stdout",
     "output_type": "stream",
     "text": [
      "Model: \"sequential_20\"\n",
      "_________________________________________________________________\n",
      "Layer (type)                 Output Shape              Param #   \n",
      "=================================================================\n",
      "conv2d_35 (Conv2D)           (None, 4, 3, 3)           20        \n",
      "_________________________________________________________________\n",
      "conv2d_36 (Conv2D)           (None, 4, 1, 1)           148       \n",
      "_________________________________________________________________\n",
      "flatten_20 (Flatten)         (None, 4)                 0         \n",
      "_________________________________________________________________\n",
      "dense_65 (Dense)             (None, 16)                80        \n",
      "_________________________________________________________________\n",
      "dense_66 (Dense)             (None, 16)                272       \n",
      "_________________________________________________________________\n",
      "dense_67 (Dense)             (None, 16)                272       \n",
      "_________________________________________________________________\n",
      "dense_68 (Dense)             (None, 1)                 17        \n",
      "=================================================================\n",
      "Total params: 809\n",
      "Trainable params: 809\n",
      "Non-trainable params: 0\n",
      "_________________________________________________________________\n"
     ]
    }
   ],
   "source": [
    "model = models.Sequential()\n",
    "model.add(layers.Conv2D(4, (2,2), activation=tf.nn.swish, \n",
    "                        input_shape=(1,3,3), data_format='channels_first', padding='same'))\n",
    "model.add(layers.Conv2D(4, (3,3), activation=tf.nn.swish, data_format='channels_first'))\n",
    "model.add(layers.Flatten())\n",
    "model.add(layers.Dense(16, activation=tf.nn.swish))\n",
    "model.add(layers.Dense(16, activation=tf.nn.swish))\n",
    "model.add(layers.Dense(16, activation=tf.nn.swish))\n",
    "model.add(layers.Dense(1, activation='linear'))\n",
    "\n",
    "model.summary()"
   ]
  },
  {
   "cell_type": "code",
   "execution_count": 223,
   "metadata": {},
   "outputs": [],
   "source": [
    "#lr_schedule = tf.keras.optimizers.schedules.ExponentialDecay(0.005, decay_steps=100000, decay_rate=0.8)\n",
    "optimizer = tf.keras.optimizers.Nadam(learning_rate=0.00005)\n",
    "\n",
    "model.compile(optimizer=optimizer,\n",
    "                 loss='mse',\n",
    "                 metrics=[])"
   ]
  },
  {
   "cell_type": "code",
   "execution_count": 224,
   "metadata": {},
   "outputs": [
    {
     "name": "stdout",
     "output_type": "stream",
     "text": [
      "Epoch 1/100\n",
      "282/282 [==============================] - 1s 5ms/step - loss: 287.0405 - val_loss: 720.5329\n",
      "Epoch 2/100\n",
      "282/282 [==============================] - 2s 6ms/step - loss: 292.8886 - val_loss: 101.2065\n",
      "Epoch 3/100\n",
      "282/282 [==============================] - 2s 6ms/step - loss: 284.6591 - val_loss: 93.3378\n",
      "Epoch 4/100\n",
      "282/282 [==============================] - 1s 5ms/step - loss: 283.4392 - val_loss: 87.0917\n",
      "Epoch 5/100\n",
      "282/282 [==============================] - 2s 7ms/step - loss: 286.8109 - val_loss: 82.8616\n",
      "Epoch 6/100\n",
      "282/282 [==============================] - 2s 6ms/step - loss: 282.8397 - val_loss: 84.8904\n",
      "Epoch 7/100\n",
      "282/282 [==============================] - 1s 5ms/step - loss: 283.0213 - val_loss: 104.2394\n",
      "Epoch 8/100\n",
      "282/282 [==============================] - 1s 4ms/step - loss: 282.9703 - val_loss: 98.3281\n",
      "Epoch 9/100\n",
      "282/282 [==============================] - 2s 6ms/step - loss: 283.1855 - val_loss: 78.8931\n",
      "Epoch 10/100\n",
      "282/282 [==============================] - 1s 5ms/step - loss: 283.0416 - val_loss: 66.9008\n",
      "Epoch 11/100\n",
      "282/282 [==============================] - 1s 5ms/step - loss: 284.7471 - val_loss: 100.0563\n",
      "Epoch 12/100\n",
      "282/282 [==============================] - 2s 6ms/step - loss: 276.1470 - val_loss: 186.3009\n",
      "Epoch 13/100\n",
      "282/282 [==============================] - 2s 8ms/step - loss: 278.4318 - val_loss: 120.6715\n",
      "Epoch 14/100\n",
      "282/282 [==============================] - 1s 4ms/step - loss: 279.3379 - val_loss: 67.0719\n",
      "Epoch 15/100\n",
      "282/282 [==============================] - 2s 6ms/step - loss: 274.6086 - val_loss: 2128.4150\n",
      "Epoch 16/100\n",
      "282/282 [==============================] - 1s 4ms/step - loss: 296.5105 - val_loss: 71.5778\n",
      "Epoch 17/100\n",
      "282/282 [==============================] - 2s 6ms/step - loss: 277.8131 - val_loss: 73.9781\n",
      "Epoch 18/100\n",
      "282/282 [==============================] - 2s 6ms/step - loss: 276.5656 - val_loss: 84.0434\n",
      "Epoch 19/100\n",
      "282/282 [==============================] - 2s 6ms/step - loss: 277.0988 - val_loss: 66.0779\n",
      "Epoch 20/100\n",
      "282/282 [==============================] - 2s 5ms/step - loss: 274.1603 - val_loss: 72.3062\n",
      "Epoch 21/100\n",
      "282/282 [==============================] - 1s 5ms/step - loss: 274.1377 - val_loss: 110.9973\n",
      "Epoch 22/100\n",
      "282/282 [==============================] - 1s 5ms/step - loss: 279.0927 - val_loss: 74.4616\n",
      "Epoch 23/100\n",
      "282/282 [==============================] - 2s 6ms/step - loss: 279.7972 - val_loss: 120.6013\n",
      "Epoch 24/100\n",
      "282/282 [==============================] - 2s 5ms/step - loss: 279.2093 - val_loss: 73.9790\n",
      "Epoch 25/100\n",
      "282/282 [==============================] - 1s 4ms/step - loss: 273.4125 - val_loss: 83.2595\n",
      "Epoch 26/100\n",
      "282/282 [==============================] - 1s 5ms/step - loss: 276.0026 - val_loss: 69.1355\n",
      "Epoch 27/100\n",
      "282/282 [==============================] - 1s 5ms/step - loss: 272.4085 - val_loss: 77.4406\n",
      "Epoch 28/100\n",
      "282/282 [==============================] - 2s 5ms/step - loss: 274.2612 - val_loss: 119.7398\n",
      "Epoch 29/100\n",
      "282/282 [==============================] - 1s 5ms/step - loss: 275.9026 - val_loss: 209.7597\n",
      "Epoch 30/100\n",
      "282/282 [==============================] - 1s 5ms/step - loss: 276.5402 - val_loss: 1047.6080\n",
      "Epoch 31/100\n",
      "282/282 [==============================] - 2s 6ms/step - loss: 289.0222 - val_loss: 78.5424\n",
      "Epoch 32/100\n",
      "282/282 [==============================] - 2s 6ms/step - loss: 274.4726 - val_loss: 94.9918\n",
      "Epoch 33/100\n",
      "282/282 [==============================] - 2s 6ms/step - loss: 273.5330 - val_loss: 75.2188\n",
      "Epoch 34/100\n",
      "282/282 [==============================] - 1s 4ms/step - loss: 276.0005 - val_loss: 74.5738\n",
      "Epoch 35/100\n",
      "282/282 [==============================] - 1s 5ms/step - loss: 273.9008 - val_loss: 94.4471\n",
      "Epoch 36/100\n",
      "282/282 [==============================] - 2s 8ms/step - loss: 274.5450 - val_loss: 89.6277\n",
      "Epoch 37/100\n",
      "282/282 [==============================] - 1s 5ms/step - loss: 279.8486 - val_loss: 77.2106\n",
      "Epoch 38/100\n",
      "282/282 [==============================] - 1s 5ms/step - loss: 273.1150 - val_loss: 70.1254\n",
      "Epoch 39/100\n",
      "282/282 [==============================] - 1s 5ms/step - loss: 278.2880 - val_loss: 67.5634\n",
      "Epoch 40/100\n",
      "282/282 [==============================] - 2s 6ms/step - loss: 273.5463 - val_loss: 75.4528\n",
      "Epoch 41/100\n",
      "282/282 [==============================] - 1s 5ms/step - loss: 274.5597 - val_loss: 65.6196\n",
      "Epoch 42/100\n",
      "282/282 [==============================] - 2s 5ms/step - loss: 273.2051 - val_loss: 73.0910\n",
      "Epoch 43/100\n",
      "282/282 [==============================] - 1s 5ms/step - loss: 275.5335 - val_loss: 99.8386\n",
      "Epoch 44/100\n",
      "282/282 [==============================] - 1s 4ms/step - loss: 273.6305 - val_loss: 67.7951\n",
      "Epoch 45/100\n",
      "282/282 [==============================] - 1s 5ms/step - loss: 273.5209 - val_loss: 80.6117\n",
      "Epoch 46/100\n",
      "282/282 [==============================] - 1s 5ms/step - loss: 273.8416 - val_loss: 73.2254\n",
      "Epoch 47/100\n",
      "282/282 [==============================] - 1s 5ms/step - loss: 274.7540 - val_loss: 61.1096\n",
      "Epoch 48/100\n",
      "282/282 [==============================] - 1s 4ms/step - loss: 273.5885 - val_loss: 70.3646\n",
      "Epoch 49/100\n",
      "282/282 [==============================] - 2s 6ms/step - loss: 275.1635 - val_loss: 81.1236\n",
      "Epoch 50/100\n",
      "282/282 [==============================] - 2s 5ms/step - loss: 276.7358 - val_loss: 88.8629\n",
      "Epoch 51/100\n",
      "282/282 [==============================] - 1s 3ms/step - loss: 276.2422 - val_loss: 76.0277\n",
      "Epoch 52/100\n",
      "282/282 [==============================] - 1s 4ms/step - loss: 277.9192 - val_loss: 136.1324\n",
      "Epoch 53/100\n",
      "282/282 [==============================] - 1s 5ms/step - loss: 274.8743 - val_loss: 82.0082\n",
      "Epoch 54/100\n",
      "282/282 [==============================] - 1s 2ms/step - loss: 272.1518 - val_loss: 80.6574\n",
      "Epoch 55/100\n",
      "282/282 [==============================] - 1s 3ms/step - loss: 273.2638 - val_loss: 81.1752\n",
      "Epoch 56/100\n",
      "282/282 [==============================] - 1s 4ms/step - loss: 277.6591 - val_loss: 73.8630\n",
      "Epoch 57/100\n",
      "282/282 [==============================] - 1s 5ms/step - loss: 275.5685 - val_loss: 154.5054\n",
      "Epoch 58/100\n",
      "282/282 [==============================] - 1s 5ms/step - loss: 276.4209 - val_loss: 75.2790\n",
      "Epoch 59/100\n",
      "282/282 [==============================] - 1s 5ms/step - loss: 271.5576 - val_loss: 74.4055\n",
      "Epoch 60/100\n",
      "282/282 [==============================] - 1s 4ms/step - loss: 277.4816 - val_loss: 91.8841\n",
      "Epoch 61/100\n",
      "282/282 [==============================] - 1s 5ms/step - loss: 279.0642 - val_loss: 95.9916\n",
      "Epoch 62/100\n",
      "282/282 [==============================] - 1s 5ms/step - loss: 274.6750 - val_loss: 68.7176\n",
      "Epoch 63/100\n",
      "282/282 [==============================] - 1s 4ms/step - loss: 274.7086 - val_loss: 81.8711\n",
      "Epoch 64/100\n",
      "282/282 [==============================] - 1s 3ms/step - loss: 274.3419 - val_loss: 74.3189\n",
      "Epoch 65/100\n",
      "282/282 [==============================] - 1s 4ms/step - loss: 271.2259 - val_loss: 73.8319\n",
      "Epoch 66/100\n",
      "282/282 [==============================] - 1s 4ms/step - loss: 276.9208 - val_loss: 75.5634\n",
      "Epoch 67/100\n",
      "282/282 [==============================] - 1s 4ms/step - loss: 276.0990 - val_loss: 67.7640\n",
      "Epoch 68/100\n",
      "282/282 [==============================] - 1s 3ms/step - loss: 277.6736 - val_loss: 66.8879\n",
      "Epoch 69/100\n",
      "282/282 [==============================] - 1s 5ms/step - loss: 274.1906 - val_loss: 77.0162\n",
      "Epoch 70/100\n",
      "282/282 [==============================] - 1s 5ms/step - loss: 274.4159 - val_loss: 77.9274\n",
      "Epoch 71/100\n",
      "282/282 [==============================] - 2s 7ms/step - loss: 272.3367 - val_loss: 71.4191\n",
      "Epoch 72/100\n",
      "282/282 [==============================] - 2s 7ms/step - loss: 279.2640 - val_loss: 96.2494\n",
      "Epoch 73/100\n",
      "282/282 [==============================] - 2s 7ms/step - loss: 271.0581 - val_loss: 73.6745\n",
      "Epoch 74/100\n",
      "282/282 [==============================] - 1s 5ms/step - loss: 271.0873 - val_loss: 66.9229\n",
      "Epoch 75/100\n",
      "282/282 [==============================] - 1s 4ms/step - loss: 277.3956 - val_loss: 74.5304\n",
      "Epoch 76/100\n",
      "282/282 [==============================] - 1s 5ms/step - loss: 274.9968 - val_loss: 68.4439\n",
      "Epoch 77/100\n",
      "282/282 [==============================] - 1s 4ms/step - loss: 274.3459 - val_loss: 72.0906\n",
      "Epoch 78/100\n",
      "282/282 [==============================] - 1s 4ms/step - loss: 275.5453 - val_loss: 76.2467\n"
     ]
    },
    {
     "name": "stdout",
     "output_type": "stream",
     "text": [
      "Epoch 79/100\n",
      "282/282 [==============================] - 1s 5ms/step - loss: 271.4563 - val_loss: 84.3778\n",
      "Epoch 80/100\n",
      "282/282 [==============================] - 1s 4ms/step - loss: 272.9328 - val_loss: 95.5383\n",
      "Epoch 81/100\n",
      "282/282 [==============================] - 1s 5ms/step - loss: 273.5111 - val_loss: 60.8585\n",
      "Epoch 82/100\n",
      "282/282 [==============================] - 1s 5ms/step - loss: 273.3643 - val_loss: 63.6335\n",
      "Epoch 83/100\n",
      "282/282 [==============================] - 1s 5ms/step - loss: 273.5345 - val_loss: 81.4114\n",
      "Epoch 84/100\n",
      "282/282 [==============================] - 1s 5ms/step - loss: 272.7866 - val_loss: 63.0489\n",
      "Epoch 85/100\n",
      "282/282 [==============================] - 2s 7ms/step - loss: 270.2489 - val_loss: 72.8317\n",
      "Epoch 86/100\n",
      "282/282 [==============================] - 1s 5ms/step - loss: 271.7908 - val_loss: 100.3660\n",
      "Epoch 87/100\n",
      "282/282 [==============================] - 2s 6ms/step - loss: 266.1619 - val_loss: 68.3151\n",
      "Epoch 88/100\n",
      "282/282 [==============================] - 1s 5ms/step - loss: 271.9845 - val_loss: 69.1214\n",
      "Epoch 89/100\n",
      "282/282 [==============================] - 2s 5ms/step - loss: 270.2175 - val_loss: 64.6142\n",
      "Epoch 90/100\n",
      "282/282 [==============================] - 1s 4ms/step - loss: 277.1225 - val_loss: 65.6373\n",
      "Epoch 91/100\n",
      "282/282 [==============================] - 2s 6ms/step - loss: 276.3127 - val_loss: 64.7470\n",
      "Epoch 92/100\n",
      "282/282 [==============================] - 1s 5ms/step - loss: 274.7783 - val_loss: 98.9225\n",
      "Epoch 93/100\n",
      "282/282 [==============================] - 1s 4ms/step - loss: 279.0442 - val_loss: 91.1534\n",
      "Epoch 94/100\n",
      "282/282 [==============================] - 1s 5ms/step - loss: 277.3358 - val_loss: 81.0578\n",
      "Epoch 95/100\n",
      "282/282 [==============================] - 1s 5ms/step - loss: 272.0112 - val_loss: 81.5002\n",
      "Epoch 96/100\n",
      "282/282 [==============================] - 1s 5ms/step - loss: 274.4785 - val_loss: 76.9058\n",
      "Epoch 97/100\n",
      "282/282 [==============================] - 1s 4ms/step - loss: 273.1133 - val_loss: 91.9626\n",
      "Epoch 98/100\n",
      "282/282 [==============================] - 1s 4ms/step - loss: 277.5276 - val_loss: 68.3583\n",
      "Epoch 99/100\n",
      "282/282 [==============================] - 1s 4ms/step - loss: 269.1140 - val_loss: 78.3781\n",
      "Epoch 100/100\n",
      "282/282 [==============================] - 1s 5ms/step - loss: 269.8669 - val_loss: 67.9366\n"
     ]
    }
   ],
   "source": [
    "history = model.fit(train_x, train_y, validation_split=0.1, batch_size=64, epochs=100)"
   ]
  },
  {
   "cell_type": "code",
   "execution_count": 225,
   "metadata": {},
   "outputs": [],
   "source": [
    "def plot_result(val_x, val_y, history, model):\n",
    "    fig = plt.figure(figsize=(8,6))\n",
    "    ax_loss = fig.add_subplot(111)\n",
    "#    ax_data = fig.add_subplot(212)\n",
    "    \n",
    "    ax_loss.plot(history.history['loss'])\n",
    "    ax_loss.plot(history.history['val_loss'])\n",
    "    ax_loss.set_ylabel('loss')\n",
    "    ax_loss.set_xlabel('epoch')\n",
    "    ax_loss.legend(['train', 'test'], loc='upper right')\n",
    "    \n",
    "#     ax_data.scatter(val_x,val_y)\n",
    "#     ax_data.scatter(val_x, model.predict(val_x), marker='|')\n",
    "#     ax_data.legend(['Analytic', 'Predicted'], loc='upper right')\n",
    "    \n",
    "    plt.show()"
   ]
  },
  {
   "cell_type": "code",
   "execution_count": 226,
   "metadata": {},
   "outputs": [
    {
     "data": {
      "image/png": "[encoded data removed]",
      "text/plain": [
       "<Figure size 576x432 with 1 Axes>"
      ]
     },
     "metadata": {
      "needs_background": "light"
     },
     "output_type": "display_data"
    }
   ],
   "source": [
    "plot_result(val_x, val_y, history, model)"
   ]
  },
  {
   "cell_type": "code",
   "execution_count": 227,
   "metadata": {},
   "outputs": [],
   "source": [
    "model.save_weights('cnn_weights_h2o.h5')"
   ]
  },
  {
   "cell_type": "code",
   "execution_count": 228,
   "metadata": {},
   "outputs": [
    {
     "name": "stdout",
     "output_type": "stream",
     "text": [
      "       Label        Predicted\n",
      "[[ 5049.68186109  5047.70410156]\n",
      " [  717.14191168   722.74810791]\n",
      " [ 5966.28704558  5968.35302734]\n",
      " [  598.95307243   598.65655518]\n",
      " [15837.89958316 15861.10839844]\n",
      " [  287.54386184   287.25079346]\n",
      " [11034.94825861 11051.6328125 ]\n",
      " [ 4276.68022732  4261.29296875]\n",
      " [ 3409.25650976  3400.75952148]\n",
      " [ 3664.63140549  3657.04443359]]\n"
     ]
    }
   ],
   "source": [
    "print(\"       Label        Predicted\")\n",
    "val_data = np.concatenate((np.expand_dims(val_y, axis=1), model.predict(val_x)),axis=1)\n",
    "print(val_data[:10])"
   ]
  },
  {
   "cell_type": "code",
   "execution_count": 233,
   "metadata": {},
   "outputs": [
    {
     "data": {
      "text/plain": [
       "(-0.001, 0.1)"
      ]
     },
     "execution_count": 233,
     "metadata": {},
     "output_type": "execute_result"
    },
    {
     "data": {
      "image/png": "[encoded data removed]",
      "text/plain": [
       "<Figure size 432x288 with 1 Axes>"
      ]
     },
     "metadata": {
      "needs_background": "light"
     },
     "output_type": "display_data"
    }
   ],
   "source": [
    "weights = np.ones_like(val_data[:,0]) / len(val_data[:,0])\n",
    "plt.hist(np.abs(val_data[:,0]-val_data[:,1])/val_data[:,0], bins=np.arange(0,1,0.01), weights=weights)\n",
    "plt.xlabel('Percentage Error')\n",
    "plt.ylabel('Percentage of Validation Data')\n",
    "plt.xlim((-0.001,0.1))"
   ]
  },
  {
   "cell_type": "code",
   "execution_count": null,
   "metadata": {},
   "outputs": [],
   "source": []
  }
 ],
 "metadata": {
  "kernelspec": {
   "display_name": "Python 3",
   "language": "python",
   "name": "python3"
  },
  "language_info": {
   "codemirror_mode": {
    "name": "ipython",
    "version": 3
   },
   "file_extension": ".py",
   "mimetype": "text/x-python",
   "name": "python",
   "nbconvert_exporter": "python",
   "pygments_lexer": "ipython3",
   "version": "3.7.6"
  }
 },
 "nbformat": 4,
 "nbformat_minor": 4
}

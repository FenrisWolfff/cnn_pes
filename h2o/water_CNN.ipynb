{
 "cells": [
  {
   "cell_type": "code",
   "execution_count": 1,
   "metadata": {},
   "outputs": [],
   "source": [
    "import h5py\n",
    "import numpy as np\n",
    "import matplotlib.pyplot as plt\n",
    "from pyvibdmc.analysis import *\n",
    "from pyvibdmc.simulation_utilities import *\n",
    "import tensorflow as tf\n",
    "from tensorflow.keras import layers, models"
   ]
  },
  {
   "cell_type": "code",
   "execution_count": 2,
   "metadata": {},
   "outputs": [],
   "source": [
    "from tensorflow.compat.v1 import ConfigProto\n",
    "from tensorflow.compat.v1 import InteractiveSession\n",
    "\n",
    "config = ConfigProto()\n",
    "config.gpu_options.allow_growth = True\n",
    "session = InteractiveSession(config=config)"
   ]
  },
  {
   "cell_type": "code",
   "execution_count": 3,
   "metadata": {},
   "outputs": [],
   "source": [
    "def load_training(training_name):\n",
    "    \"\"\"If using deb_training_every argument, read the files with this.\"\"\"\n",
    "    with h5py.File(training_name, 'r') as f:\n",
    "        cds = f['coords'][:]\n",
    "        vs = f['pots'][:]\n",
    "    return cds, Constants.convert(vs, \"wavenumbers\", to_AU=False)\n",
    "\n",
    "\n",
    "def get_ml_data(ts):\n",
    "    tot_x = []\n",
    "    tot_v = []\n",
    "    for time in ts:\n",
    "        cds, vs = load_training(f\"training_water_dt1_1_training_{time}ts.hdf5\")\n",
    "        tot_x.append(cds.squeeze())\n",
    "        tot_v.append(vs)\n",
    "    tot_x = np.concatenate(tot_x)\n",
    "    tot_v = np.concatenate(tot_v)\n",
    "    return tot_x, tot_v\n",
    "\n",
    "\n",
    "\n",
    "def pre_process(x):\n",
    "    \n",
    "    X_MIN = 0\n",
    "    X_MAX = 5\n",
    "    \n",
    "    def dis_map(coord):\n",
    "        dis_generator = lambda i,j: np.linalg.norm(coord[i]-coord[j])\n",
    "        full_map = np.fromfunction(np.vectorize(dis_generator), (3,3), dtype=int)\n",
    "        return np.triu(full_map)\n",
    "\n",
    "    def normalize(x):\n",
    "        return (x-X_MIN)/(X_MAX-X_MIN)\n",
    "\n",
    "#     def padding(x):\n",
    "#         return np.pad(x, ((1,1),(1,1)))\n",
    "\n",
    "    x = np.array([[dis_map(cd)] for cd in x])\n",
    "    return normalize(x)\n",
    "\n",
    "\n",
    "tss = [100, 200, 300, 400, 500]\n",
    "tss = [100, 200]\n",
    "train_x, train_y = get_ml_data(tss)\n",
    "train_x = pre_process(train_x)\n",
    "\n",
    "val_set = [800]\n",
    "val_x, val_y = get_ml_data(val_set)\n",
    "val_x = pre_process(val_x)"
   ]
  },
  {
   "cell_type": "code",
   "execution_count": 4,
   "metadata": {},
   "outputs": [
    {
     "data": {
      "text/plain": [
       "(20001, 1, 3, 3)"
      ]
     },
     "execution_count": 4,
     "metadata": {},
     "output_type": "execute_result"
    }
   ],
   "source": [
    "train_x.shape"
   ]
  },
  {
   "cell_type": "code",
   "execution_count": 81,
   "metadata": {},
   "outputs": [
    {
     "name": "stdout",
     "output_type": "stream",
     "text": [
      "Model: \"sequential_5\"\n",
      "_________________________________________________________________\n",
      "Layer (type)                 Output Shape              Param #   \n",
      "=================================================================\n",
      "conv2d_10 (Conv2D)           (None, 4, 3, 3)           20        \n",
      "_________________________________________________________________\n",
      "conv2d_11 (Conv2D)           (None, 4, 1, 1)           148       \n",
      "_________________________________________________________________\n",
      "flatten_5 (Flatten)          (None, 4)                 0         \n",
      "_________________________________________________________________\n",
      "dense_20 (Dense)             (None, 16)                80        \n",
      "_________________________________________________________________\n",
      "dense_21 (Dense)             (None, 16)                272       \n",
      "_________________________________________________________________\n",
      "dense_22 (Dense)             (None, 16)                272       \n",
      "_________________________________________________________________\n",
      "dense_23 (Dense)             (None, 1)                 17        \n",
      "=================================================================\n",
      "Total params: 809\n",
      "Trainable params: 809\n",
      "Non-trainable params: 0\n",
      "_________________________________________________________________\n"
     ]
    }
   ],
   "source": [
    "model = models.Sequential()\n",
    "model.add(layers.Conv2D(4, (2,2), activation=tf.nn.swish, \n",
    "                        input_shape=(1,3,3), data_format='channels_first', padding='same'))\n",
    "model.add(layers.Conv2D(4, (3,3), activation=tf.nn.swish, data_format='channels_first'))\n",
    "model.add(layers.Flatten())\n",
    "model.add(layers.Dense(16, activation=tf.nn.swish))\n",
    "model.add(layers.Dense(16, activation=tf.nn.swish))\n",
    "model.add(layers.Dense(16, activation=tf.nn.swish))\n",
    "model.add(layers.Dense(1, activation='linear'))\n",
    "\n",
    "model.summary()\n",
    "\n",
    "model.load_weights('cnn_weights_h2o.h5')"
   ]
  },
  {
   "cell_type": "code",
   "execution_count": 82,
   "metadata": {},
   "outputs": [],
   "source": [
    "#lr_schedule = tf.keras.optimizers.schedules.ExponentialDecay(0.005, decay_steps=100000, decay_rate=0.8)\n",
    "optimizer = tf.keras.optimizers.Nadam(learning_rate=0.00001)\n",
    "\n",
    "model.compile(optimizer=optimizer,\n",
    "                 loss='mse',\n",
    "                 metrics=[])"
   ]
  },
  {
   "cell_type": "code",
   "execution_count": 72,
   "metadata": {},
   "outputs": [
    {
     "name": "stdout",
     "output_type": "stream",
     "text": [
      "Epoch 1/100\n",
      "282/282 [==============================] - 2s 6ms/step - loss: 84.7174 - val_loss: 45.4328\n",
      "Epoch 2/100\n",
      "282/282 [==============================] - 2s 8ms/step - loss: 83.5976 - val_loss: 34.6228\n",
      "Epoch 3/100\n",
      "282/282 [==============================] - 2s 8ms/step - loss: 84.4655 - val_loss: 50.3819\n",
      "Epoch 4/100\n",
      "282/282 [==============================] - 3s 10ms/step - loss: 82.7196 - val_loss: 92.0229\n",
      "Epoch 5/100\n",
      "282/282 [==============================] - 2s 8ms/step - loss: 83.1904 - val_loss: 33.6408\n",
      "Epoch 6/100\n",
      "282/282 [==============================] - 2s 6ms/step - loss: 82.3377 - val_loss: 30.4162\n",
      "Epoch 7/100\n",
      "282/282 [==============================] - 3s 10ms/step - loss: 82.8847 - val_loss: 40.6500\n",
      "Epoch 8/100\n",
      "282/282 [==============================] - 1s 5ms/step - loss: 81.8416 - val_loss: 28.6113\n",
      "Epoch 9/100\n",
      "282/282 [==============================] - 1s 4ms/step - loss: 81.9122 - val_loss: 29.3942\n",
      "Epoch 10/100\n",
      "282/282 [==============================] - 2s 6ms/step - loss: 82.7265 - val_loss: 29.3381\n",
      "Epoch 11/100\n",
      "282/282 [==============================] - 1s 5ms/step - loss: 82.4681 - val_loss: 28.7681\n",
      "Epoch 12/100\n",
      "282/282 [==============================] - 1s 4ms/step - loss: 81.8294 - val_loss: 37.7712\n",
      "Epoch 13/100\n",
      "282/282 [==============================] - 2s 7ms/step - loss: 82.0012 - val_loss: 29.6540\n",
      "Epoch 14/100\n",
      "282/282 [==============================] - 3s 11ms/step - loss: 82.4779 - val_loss: 32.4838\n",
      "Epoch 15/100\n",
      "282/282 [==============================] - 2s 8ms/step - loss: 81.6550 - val_loss: 31.3860\n",
      "Epoch 16/100\n",
      "282/282 [==============================] - 2s 7ms/step - loss: 81.4709 - val_loss: 29.1421\n",
      "Epoch 17/100\n",
      "282/282 [==============================] - 3s 9ms/step - loss: 81.3906 - val_loss: 28.6668\n",
      "Epoch 18/100\n",
      "282/282 [==============================] - 3s 11ms/step - loss: 81.6305 - val_loss: 31.6450\n",
      "Epoch 19/100\n",
      "282/282 [==============================] - 3s 10ms/step - loss: 81.7961 - val_loss: 33.1221\n",
      "Epoch 20/100\n",
      "282/282 [==============================] - 1s 5ms/step - loss: 79.9717 - val_loss: 35.7647\n",
      "Epoch 21/100\n",
      "282/282 [==============================] - 1s 5ms/step - loss: 81.6740 - val_loss: 28.9906\n",
      "Epoch 22/100\n",
      "282/282 [==============================] - 1s 3ms/step - loss: 81.2606 - val_loss: 33.6666\n",
      "Epoch 23/100\n",
      "282/282 [==============================] - 1s 2ms/step - loss: 80.2787 - val_loss: 69.2974\n",
      "Epoch 24/100\n",
      "282/282 [==============================] - 2s 6ms/step - loss: 81.0396 - val_loss: 28.1250\n",
      "Epoch 25/100\n",
      "282/282 [==============================] - 1s 4ms/step - loss: 80.2956 - val_loss: 30.1391\n",
      "Epoch 26/100\n",
      "282/282 [==============================] - 1s 3ms/step - loss: 79.8147 - val_loss: 29.5975\n",
      "Epoch 27/100\n",
      "282/282 [==============================] - 1s 5ms/step - loss: 79.9999 - val_loss: 30.2424\n",
      "Epoch 28/100\n",
      "282/282 [==============================] - 1s 2ms/step - loss: 80.3604 - val_loss: 31.6365\n",
      "Epoch 29/100\n",
      "282/282 [==============================] - 2s 6ms/step - loss: 80.5273 - val_loss: 32.3834\n",
      "Epoch 30/100\n",
      "282/282 [==============================] - 2s 7ms/step - loss: 80.5497 - val_loss: 35.6323\n",
      "Epoch 31/100\n",
      "282/282 [==============================] - 1s 2ms/step - loss: 80.6416 - val_loss: 30.8888\n",
      "Epoch 32/100\n",
      "282/282 [==============================] - 3s 10ms/step - loss: 80.3588 - val_loss: 34.1597\n",
      "Epoch 33/100\n",
      "282/282 [==============================] - 2s 8ms/step - loss: 80.6013 - val_loss: 62.9036\n",
      "Epoch 34/100\n",
      "282/282 [==============================] - 1s 4ms/step - loss: 81.2912 - val_loss: 39.5220\n",
      "Epoch 35/100\n",
      "282/282 [==============================] - 1s 3ms/step - loss: 80.5984 - val_loss: 31.7929\n",
      "Epoch 36/100\n",
      "282/282 [==============================] - 1s 3ms/step - loss: 80.4039 - val_loss: 28.7412\n",
      "Epoch 37/100\n",
      "282/282 [==============================] - 2s 6ms/step - loss: 80.1217 - val_loss: 29.0741\n",
      "Epoch 38/100\n",
      "282/282 [==============================] - 3s 10ms/step - loss: 80.4875 - val_loss: 29.1397\n",
      "Epoch 39/100\n",
      "282/282 [==============================] - 2s 7ms/step - loss: 80.1786 - val_loss: 35.3359\n",
      "Epoch 40/100\n",
      "282/282 [==============================] - 1s 3ms/step - loss: 80.5716 - val_loss: 33.4154\n",
      "Epoch 41/100\n",
      "282/282 [==============================] - 1s 4ms/step - loss: 80.4515 - val_loss: 41.6242\n",
      "Epoch 42/100\n",
      "282/282 [==============================] - 1s 3ms/step - loss: 79.9008 - val_loss: 37.6291\n",
      "Epoch 43/100\n",
      "282/282 [==============================] - 1s 4ms/step - loss: 80.2190 - val_loss: 40.0350\n",
      "Epoch 44/100\n",
      "282/282 [==============================] - 1s 4ms/step - loss: 81.0760 - val_loss: 33.6907\n",
      "Epoch 45/100\n",
      "282/282 [==============================] - 1s 2ms/step - loss: 80.3728 - val_loss: 31.6743\n",
      "Epoch 46/100\n",
      "282/282 [==============================] - 1s 4ms/step - loss: 79.8277 - val_loss: 36.2456\n",
      "Epoch 47/100\n",
      "282/282 [==============================] - 1s 5ms/step - loss: 80.7005 - val_loss: 29.0129\n",
      "Epoch 48/100\n",
      "282/282 [==============================] - 1s 3ms/step - loss: 80.4771 - val_loss: 40.0896\n",
      "Epoch 49/100\n",
      "282/282 [==============================] - 1s 4ms/step - loss: 80.4959 - val_loss: 31.2260\n",
      "Epoch 50/100\n",
      "282/282 [==============================] - 1s 5ms/step - loss: 79.8156 - val_loss: 29.1599\n",
      "Epoch 51/100\n",
      "282/282 [==============================] - 1s 5ms/step - loss: 80.1680 - val_loss: 34.9834\n",
      "Epoch 52/100\n",
      "282/282 [==============================] - 2s 6ms/step - loss: 80.6563 - val_loss: 29.5060\n",
      "Epoch 53/100\n",
      "282/282 [==============================] - 1s 4ms/step - loss: 80.4547 - val_loss: 29.9934\n",
      "Epoch 54/100\n",
      "282/282 [==============================] - 1s 5ms/step - loss: 80.3217 - val_loss: 30.9910\n",
      "Epoch 55/100\n",
      "282/282 [==============================] - 1s 4ms/step - loss: 80.5577 - val_loss: 33.1005\n",
      "Epoch 56/100\n",
      "282/282 [==============================] - 1s 5ms/step - loss: 80.7926 - val_loss: 29.8160\n",
      "Epoch 57/100\n",
      "282/282 [==============================] - 1s 4ms/step - loss: 79.6133 - val_loss: 28.5616\n",
      "Epoch 58/100\n",
      "282/282 [==============================] - 2s 7ms/step - loss: 80.9028 - val_loss: 36.4373\n",
      "Epoch 59/100\n",
      "282/282 [==============================] - 1s 5ms/step - loss: 80.3065 - val_loss: 29.4731\n",
      "Epoch 60/100\n",
      "282/282 [==============================] - 1s 3ms/step - loss: 80.5155 - val_loss: 30.5283\n",
      "Epoch 61/100\n",
      "282/282 [==============================] - 2s 5ms/step - loss: 80.6330 - val_loss: 34.9306\n",
      "Epoch 62/100\n",
      "282/282 [==============================] - 2s 7ms/step - loss: 80.8690 - val_loss: 28.0007\n",
      "Epoch 63/100\n",
      "282/282 [==============================] - 2s 7ms/step - loss: 80.2742 - val_loss: 35.8137\n",
      "Epoch 64/100\n",
      "282/282 [==============================] - 2s 7ms/step - loss: 80.1266 - val_loss: 34.4643\n",
      "Epoch 65/100\n",
      "282/282 [==============================] - 1s 4ms/step - loss: 80.2355 - val_loss: 28.8215\n",
      "Epoch 66/100\n",
      "282/282 [==============================] - 2s 5ms/step - loss: 80.3371 - val_loss: 28.7644\n",
      "Epoch 67/100\n",
      "282/282 [==============================] - 2s 7ms/step - loss: 80.4514 - val_loss: 29.2061\n",
      "Epoch 68/100\n",
      "282/282 [==============================] - 1s 5ms/step - loss: 79.4350 - val_loss: 65.6173\n",
      "Epoch 69/100\n",
      "282/282 [==============================] - 1s 4ms/step - loss: 81.1868 - val_loss: 29.0857\n",
      "Epoch 70/100\n",
      "282/282 [==============================] - 1s 3ms/step - loss: 79.9867 - val_loss: 32.3484\n",
      "Epoch 71/100\n",
      "282/282 [==============================] - 1s 3ms/step - loss: 79.9258 - val_loss: 32.5381\n",
      "Epoch 72/100\n",
      "282/282 [==============================] - 1s 4ms/step - loss: 79.9587 - val_loss: 58.1318\n",
      "Epoch 73/100\n",
      "282/282 [==============================] - 2s 5ms/step - loss: 80.2798 - val_loss: 37.2511\n",
      "Epoch 74/100\n",
      "282/282 [==============================] - 2s 6ms/step - loss: 80.9527 - val_loss: 32.6735\n",
      "Epoch 75/100\n",
      "282/282 [==============================] - 1s 4ms/step - loss: 80.1214 - val_loss: 29.0747\n",
      "Epoch 76/100\n",
      "282/282 [==============================] - 1s 5ms/step - loss: 80.0813 - val_loss: 30.5774\n",
      "Epoch 77/100\n",
      "282/282 [==============================] - 1s 4ms/step - loss: 79.9850 - val_loss: 32.0965\n",
      "Epoch 78/100\n",
      "282/282 [==============================] - 1s 4ms/step - loss: 80.2080 - val_loss: 32.2105\n",
      "Epoch 79/100\n",
      "282/282 [==============================] - 1s 4ms/step - loss: 80.4828 - val_loss: 34.4345\n"
     ]
    },
    {
     "name": "stdout",
     "output_type": "stream",
     "text": [
      "Epoch 80/100\n",
      "282/282 [==============================] - 2s 6ms/step - loss: 79.7678 - val_loss: 33.0571\n",
      "Epoch 81/100\n",
      "282/282 [==============================] - 2s 7ms/step - loss: 80.2224 - val_loss: 30.8669\n",
      "Epoch 82/100\n",
      "282/282 [==============================] - 3s 10ms/step - loss: 80.7519 - val_loss: 38.5377\n",
      "Epoch 83/100\n",
      "282/282 [==============================] - 3s 11ms/step - loss: 80.3781 - val_loss: 29.3462\n",
      "Epoch 84/100\n",
      "282/282 [==============================] - 2s 7ms/step - loss: 79.8994 - val_loss: 28.7241\n",
      "Epoch 85/100\n",
      "282/282 [==============================] - 2s 7ms/step - loss: 80.4180 - val_loss: 33.8534\n",
      "Epoch 86/100\n",
      "282/282 [==============================] - 2s 9ms/step - loss: 80.4597 - val_loss: 34.0982\n",
      "Epoch 87/100\n",
      "282/282 [==============================] - 1s 3ms/step - loss: 80.5766 - val_loss: 29.5922\n",
      "Epoch 88/100\n",
      "282/282 [==============================] - 2s 6ms/step - loss: 80.2715 - val_loss: 31.5700\n",
      "Epoch 89/100\n",
      "282/282 [==============================] - 1s 5ms/step - loss: 79.9729 - val_loss: 30.6723\n",
      "Epoch 90/100\n",
      "282/282 [==============================] - 2s 7ms/step - loss: 80.1857 - val_loss: 42.6011\n",
      "Epoch 91/100\n",
      "282/282 [==============================] - 1s 5ms/step - loss: 81.0504 - val_loss: 34.7232\n",
      "Epoch 92/100\n",
      "282/282 [==============================] - 1s 3ms/step - loss: 80.7948 - val_loss: 41.4446\n",
      "Epoch 93/100\n",
      "282/282 [==============================] - 1s 5ms/step - loss: 79.5319 - val_loss: 34.3240\n",
      "Epoch 94/100\n",
      "282/282 [==============================] - 2s 8ms/step - loss: 80.1931 - val_loss: 30.9985\n",
      "Epoch 95/100\n",
      "282/282 [==============================] - 2s 6ms/step - loss: 80.2756 - val_loss: 37.3443\n",
      "Epoch 96/100\n",
      "282/282 [==============================] - 2s 6ms/step - loss: 81.0847 - val_loss: 28.8340\n",
      "Epoch 97/100\n",
      "282/282 [==============================] - 1s 5ms/step - loss: 80.6792 - val_loss: 47.6633\n",
      "Epoch 98/100\n",
      "282/282 [==============================] - 2s 7ms/step - loss: 80.5384 - val_loss: 28.5390\n",
      "Epoch 99/100\n",
      "282/282 [==============================] - 2s 7ms/step - loss: 80.2166 - val_loss: 28.5211\n",
      "Epoch 100/100\n",
      "282/282 [==============================] - 3s 9ms/step - loss: 80.3281 - val_loss: 27.8948\n"
     ]
    }
   ],
   "source": [
    "history = model.fit(train_x, train_y, validation_split=0.1, batch_size=64, epochs=100)"
   ]
  },
  {
   "cell_type": "code",
   "execution_count": 73,
   "metadata": {},
   "outputs": [],
   "source": [
    "def plot_result(val_x, val_y, history, model):\n",
    "    fig = plt.figure(figsize=(8,6))\n",
    "    ax_loss = fig.add_subplot(111)\n",
    "#    ax_data = fig.add_subplot(212)\n",
    "    \n",
    "    ax_loss.plot(history.history['loss'])\n",
    "    ax_loss.plot(history.history['val_loss'])\n",
    "    ax_loss.set_ylabel('loss')\n",
    "    ax_loss.set_xlabel('epoch')\n",
    "    ax_loss.legend(['train', 'test'], loc='upper right')\n",
    "    \n",
    "#     ax_data.scatter(val_x,val_y)\n",
    "#     ax_data.scatter(val_x, model.predict(val_x), marker='|')\n",
    "#     ax_data.legend(['Analytic', 'Predicted'], loc='upper right')\n",
    "    \n",
    "    plt.show()"
   ]
  },
  {
   "cell_type": "code",
   "execution_count": 74,
   "metadata": {},
   "outputs": [
    {
     "data": {
      "image/png": "[encoded data removed]",
      "text/plain": [
       "<Figure size 576x432 with 1 Axes>"
      ]
     },
     "metadata": {
      "needs_background": "light"
     },
     "output_type": "display_data"
    }
   ],
   "source": [
    "plot_result(val_x, val_y, history, model)"
   ]
  },
  {
   "cell_type": "code",
   "execution_count": 75,
   "metadata": {},
   "outputs": [],
   "source": [
    "model.save_weights('cnn_weights_h2o.h5')"
   ]
  },
  {
   "cell_type": "code",
   "execution_count": 83,
   "metadata": {},
   "outputs": [
    {
     "name": "stdout",
     "output_type": "stream",
     "text": [
      "       Label        Predicted\n",
      "[[ 5049.68186109  5047.63427734]\n",
      " [  717.14191168   722.82531738]\n",
      " [ 5966.28704558  5966.41748047]\n",
      " [  598.95307243   599.08374023]\n",
      " [15837.89958316 15855.75292969]\n",
      " [  287.54386184   287.43081665]\n",
      " [11034.94825861 11046.65429688]\n",
      " [ 4276.68022732  4262.18310547]\n",
      " [ 3409.25650976  3402.41967773]\n",
      " [ 3664.63140549  3657.90039062]]\n"
     ]
    }
   ],
   "source": [
    "print(\"       Label        Predicted\")\n",
    "val_data = np.concatenate((np.expand_dims(val_y, axis=1), model.predict(val_x)),axis=1)\n",
    "print(val_data[:10])"
   ]
  },
  {
   "cell_type": "code",
   "execution_count": 89,
   "metadata": {},
   "outputs": [
    {
     "data": {
      "text/plain": [
       "(-0.001, 0.03)"
      ]
     },
     "execution_count": 89,
     "metadata": {},
     "output_type": "execute_result"
    },
    {
     "data": {
      "image/png": "[encoded data removed]",
      "text/plain": [
       "<Figure size 432x288 with 1 Axes>"
      ]
     },
     "metadata": {
      "needs_background": "light"
     },
     "output_type": "display_data"
    }
   ],
   "source": [
    "weights = np.ones_like(val_data[:,0]) / len(val_data[:,0])\n",
    "plt.hist(np.abs(val_data[:,0]-val_data[:,1])/val_data[:,0], bins=np.arange(0,1,0.005), weights=weights)\n",
    "plt.xlabel('Percentage Error')\n",
    "plt.ylabel('Percentage of Validation Data')\n",
    "plt.xlim((-0.001,0.03))"
   ]
  },
  {
   "cell_type": "code",
   "execution_count": 85,
   "metadata": {},
   "outputs": [
    {
     "data": {
      "image/png": "[encoded data removed]",
      "text/plain": [
       "<Figure size 432x288 with 1 Axes>"
      ]
     },
     "metadata": {
      "needs_background": "light"
     },
     "output_type": "display_data"
    }
   ],
   "source": [
    "plt.scatter(val_data[:,0], val_data[:,1])\n",
    "plt.xlabel('$E_{PS}$')\n",
    "plt.ylabel('$E_{NN}$')\n",
    "plt.show()"
   ]
  },
  {
   "cell_type": "code",
   "execution_count": 86,
   "metadata": {},
   "outputs": [
    {
     "data": {
      "image/png": "[encoded data removed]",
      "text/plain": [
       "<Figure size 432x288 with 1 Axes>"
      ]
     },
     "metadata": {
      "needs_background": "light"
     },
     "output_type": "display_data"
    }
   ],
   "source": [
    "plt.scatter(val_data[:,0], (val_data[:,1]-val_data[:,0])/val_data[:,1])\n",
    "plt.xlabel('$E_{PS}$')\n",
    "plt.ylabel('Error')\n",
    "plt.show()"
   ]
  },
  {
   "cell_type": "code",
   "execution_count": null,
   "metadata": {},
   "outputs": [],
   "source": []
  }
 ],
 "metadata": {
  "kernelspec": {
   "display_name": "Python 3",
   "language": "python",
   "name": "python3"
  },
  "language_info": {
   "codemirror_mode": {
    "name": "ipython",
    "version": 3
   },
   "file_extension": ".py",
   "mimetype": "text/x-python",
   "name": "python",
   "nbconvert_exporter": "python",
   "pygments_lexer": "ipython3",
   "version": "3.7.9"
  }
 },
 "nbformat": 4,
 "nbformat_minor": 4
}

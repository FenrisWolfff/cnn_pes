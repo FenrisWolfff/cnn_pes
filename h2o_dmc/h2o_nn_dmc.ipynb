{
 "cells": [
  {
   "cell_type": "code",
   "execution_count": 1,
   "metadata": {},
   "outputs": [],
   "source": [
    "import h5py\n",
    "import numpy as np\n",
    "import matplotlib.pyplot as plt\n",
    "import pyvibdmc as dmc\n",
    "from pyvibdmc.analysis import *\n",
    "from pyvibdmc.simulation_utilities import *\n",
    "from pyvibdmc import potential_manager as pm"
   ]
  },
  {
   "cell_type": "code",
   "execution_count": null,
   "metadata": {},
   "outputs": [
    {
     "name": "stdout",
     "output_type": "stream",
     "text": [
      "Starting Simulation...\n"
     ]
    }
   ],
   "source": [
    "if __name__ == '__main__': #if using multiprocessing on windows / mac, you need to encapsulate using this line\n",
    "    pot_dir = '/' #this directory is part of the one you copied that is outside of pyvibdmc.\n",
    "    py_file = 'h2o_nn_pot.py'\n",
    "    pot_func = 'h2o_pot' # def water_pot(cds) in h2o_potential.py\n",
    "\n",
    "    #The Potential object assumes you have already made a .so file and can successfully call it from Python\n",
    "    water_pot = pm.Potential(potential_function=pot_func,\n",
    "                          python_file=py_file,\n",
    "                          potential_directory=pot_dir,\n",
    "                          num_cores=8)\n",
    "\n",
    "    #optional num_cores parameter for multiprocessing, should not exceed the number of cores on the CPU\n",
    "    #your machine has. Can use multiprocessing.cpu_count()\n",
    "\n",
    "    # Starting Structure\n",
    "    # Equilibrium geometry of water in *atomic units*, then blown up by 1.01 to not start at the bottom of the potential.\n",
    "    water_coord = np.array([[1.81005599,  0.        ,  0.        ],\n",
    "                           [-0.45344658,  1.75233806,  0.        ],\n",
    "                           [ 0.        ,  0.        ,  0.        ]]) * 1.01\n",
    "\n",
    "    for sim_num in range(5):\n",
    "        myDMC = dmc.DMC_Sim(sim_name=f\"h20_nn_{sim_num}\",\n",
    "                              output_folder=\"h2o_nn_dmc_output\",\n",
    "                              weighting='discrete', #or 'continuous'. 'continuous' keeps the ensemble size constant.\n",
    "                              num_walkers=20000, #number of geometries exploring the potential surface\n",
    "                              num_timesteps=10000, #how long the simulation will go. (num_timesteps * delta_t atomic units of time)\n",
    "                              equil_steps=500, #how long before we start collecting wave functions\n",
    "                              chkpt_every=500, #checkpoint the simulation every \"chkpt_every\" time steps\n",
    "                              wfn_every=1000, #collect a wave function every \"wfn_every\" time steps\n",
    "                              desc_wt_steps=100, #number of time steps you allow for descendant weighting per wave function\n",
    "                              atoms=['H','H','O'],\n",
    "                              delta_t=1, #the size of the time step in atomic units\n",
    "                              potential=water_pot,\n",
    "                              start_structures=np.expand_dims(water_coord,axis=0), #can provide a single geometry, or an ensemble of geometries\n",
    "                              masses=None #can put in artificial masses, otherwise it auto-pulls values from the atoms string\n",
    "        )\n",
    "        myDMC.run()"
   ]
  },
  {
   "cell_type": "code",
   "execution_count": null,
   "metadata": {},
   "outputs": [],
   "source": [
    "\n",
    "if __name__ == '__main__': #if using multiprocessing on windows / mac, you need to encapsulate using this line\n",
    "    # need to reinitalize the water_pot\n",
    "    pot_dir = '/' #this directory is part of the one you copied that is outside of pyvibdmc.\n",
    "    py_file = 'h2o_nn_pot.py'\n",
    "    pot_func = 'h2o_pot' # def water_pot(cds) in h2o_potential.py\n",
    "\n",
    "    #The Potential object assumes you have already made a .so file and can successfully call it from Python\n",
    "    water_pot = pm.Potential(potential_function=pot_func,\n",
    "                          python_file=py_file,\n",
    "                          potential_directory=pot_dir,\n",
    "                          num_cores=8)\n",
    "\n",
    "    #restart function that reinializes the myDMC object\n",
    "    myDMC = dmc.dmc_restart(potential=water_pot,\n",
    "                                 chkpt_folder=\"h2o_nn_dmc_output\",\n",
    "                                 sim_name='h2o_nn_0', #if the fourth simulation died  (0,1,2,*3*,4)\n",
    "                                 time_step=7500) #made it to step 2600, so we have a checkpoint at 2500 (chkpt_every=500)\n",
    "    myDMC.run()"
   ]
  },
  {
   "cell_type": "code",
   "execution_count": null,
   "metadata": {},
   "outputs": [],
   "source": []
  }
 ],
 "metadata": {
  "kernelspec": {
   "display_name": "Python 3",
   "language": "python",
   "name": "python3"
  },
  "language_info": {
   "codemirror_mode": {
    "name": "ipython",
    "version": 3
   },
   "file_extension": ".py",
   "mimetype": "text/x-python",
   "name": "python",
   "nbconvert_exporter": "python",
   "pygments_lexer": "ipython3",
   "version": "3.7.9"
  }
 },
 "nbformat": 4,
 "nbformat_minor": 4
}

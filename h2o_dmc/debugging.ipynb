{
 "cells": [
  {
   "cell_type": "code",
   "execution_count": 1,
   "metadata": {},
   "outputs": [],
   "source": [
    "import numpy as np\n",
    "import pyvibdmc.simulation_utilities as util\n",
    "import pyvibdmc as dmc\n",
    "from pyvibdmc import potential_manager as pm\n",
    "import matplotlib.pyplot as plt\n",
    "import sys,os\n",
    "import pandas as pd"
   ]
  },
  {
   "cell_type": "code",
   "execution_count": 2,
   "metadata": {},
   "outputs": [],
   "source": [
    "pot_dir = '/home/fenris/McCoy_Group/dvr/sample_potentials/FortPots/Partridge_Schwenke_H2O/'\n",
    "py_file = 'h2o_potential.py'\n",
    "pot_func = 'water_pot'\n",
    "\n",
    "water_pot_ps = pm.Potential(potential_function=pot_func,\n",
    "                      python_file=py_file,\n",
    "                      potential_directory=pot_dir,\n",
    "                      num_cores=1)\n",
    "\n",
    "pot_dir = '/home/fenris/McCoy_Group/conv/h2o_dmc/'\n",
    "py_file = 'h2o_nn_pot.py'\n",
    "pot_func = 'h2o_pot'\n",
    "\n",
    "water_pot_nn = pm.Potential(potential_function=pot_func,\n",
    "                      python_file=py_file,\n",
    "                      potential_directory=pot_dir,\n",
    "                      num_cores=1)"
   ]
  },
  {
   "cell_type": "code",
   "execution_count": 3,
   "metadata": {},
   "outputs": [],
   "source": [
    "eq_coord = np.array([[1.81005599,  0.        ,  0.        ],\n",
    "                       [-0.45344658,  1.75233806,  0.        ],\n",
    "                       [ 0.        ,  0.        ,  0.        ]])\n",
    "cds = np.tile(eq_coord, (1001, 1, 1))\n",
    "d_r = np.linspace(-1, 1, num=1001)\n",
    "padded_d_r = np.zeros(cds.shape)\n",
    "padded_d_r[:,0,0] = d_r\n",
    "cds += padded_d_r"
   ]
  },
  {
   "cell_type": "code",
   "execution_count": 4,
   "metadata": {},
   "outputs": [],
   "source": [
    "from pyvibdmc.analysis import *"
   ]
  },
  {
   "cell_type": "code",
   "execution_count": 5,
   "metadata": {},
   "outputs": [],
   "source": [
    "sim = SimInfo('h2o_nn_dmc_output/h2o_nn_0_sim_info.hdf5')"
   ]
  },
  {
   "cell_type": "code",
   "execution_count": 6,
   "metadata": {},
   "outputs": [],
   "source": [
    "increment = 1000\n",
    "cds, dws = sim.get_wfns(np.arange(2500,9500+increment,increment))"
   ]
  },
  {
   "cell_type": "code",
   "execution_count": 7,
   "metadata": {},
   "outputs": [],
   "source": [
    "E_ps = water_pot_ps.getpot(cds[-1000:])\n",
    "E_nn = water_pot_nn.getpot(cds[-1000:])"
   ]
  },
  {
   "cell_type": "code",
   "execution_count": 9,
   "metadata": {},
   "outputs": [
    {
     "data": {
      "text/plain": [
       "<matplotlib.collections.PathCollection at 0x7f71f055ef50>"
      ]
     },
     "execution_count": 9,
     "metadata": {},
     "output_type": "execute_result"
    },
    {
     "data": {
      "image/png": "[encoded data removed]",
      "text/plain": [
       "<Figure size 432x288 with 1 Axes>"
      ]
     },
     "metadata": {
      "needs_background": "light"
     },
     "output_type": "display_data"
    }
   ],
   "source": [
    "np.argmax(E_ps)"
   ]
  },
  {
   "cell_type": "code",
   "execution_count": 8,
   "metadata": {},
   "outputs": [
    {
     "data": {
      "text/plain": [
       "<matplotlib.collections.PathCollection at 0x7f25e029db10>"
      ]
     },
     "execution_count": 8,
     "metadata": {},
     "output_type": "execute_result"
    },
    {
     "data": {
      "image/png": "[encoded data removed]",
      "text/plain": [
       "<Figure size 432x288 with 1 Axes>"
      ]
     },
     "metadata": {
      "needs_background": "light"
     },
     "output_type": "display_data"
    }
   ],
   "source": [
    "plt.scatter(E_ps, E_nn)"
   ]
  },
  {
   "cell_type": "code",
   "execution_count": 22,
   "metadata": {},
   "outputs": [],
   "source": [
    "cd = np.array([cds[len(cds)-1000+895]])"
   ]
  },
  {
   "cell_type": "code",
   "execution_count": 21,
   "metadata": {},
   "outputs": [
    {
     "data": {
      "text/plain": [
       "array([0.03782919], dtype=float32)"
      ]
     },
     "execution_count": 21,
     "metadata": {},
     "output_type": "execute_result"
    }
   ],
   "source": [
    "water_pot_nn.getpot(cd)"
   ]
  },
  {
   "cell_type": "code",
   "execution_count": 8,
   "metadata": {},
   "outputs": [
    {
     "data": {
      "text/plain": [
       "'/home/fenris/McCoy_Group/conv/h2o_dmc'"
      ]
     },
     "execution_count": 8,
     "metadata": {},
     "output_type": "execute_result"
    }
   ],
   "source": [
    "import os\n",
    "os.getcwd()"
   ]
  },
  {
   "cell_type": "code",
   "execution_count": null,
   "metadata": {},
   "outputs": [],
   "source": []
  }
 ],
 "metadata": {
  "kernelspec": {
   "display_name": "Python 3",
   "language": "python",
   "name": "python3"
  },
  "language_info": {
   "codemirror_mode": {
    "name": "ipython",
    "version": 3
   },
   "file_extension": ".py",
   "mimetype": "text/x-python",
   "name": "python",
   "nbconvert_exporter": "python",
   "pygments_lexer": "ipython3",
   "version": "3.7.9"
  }
 },
 "nbformat": 4,
 "nbformat_minor": 4
}

{
 "cells": [
  {
   "cell_type": "code",
   "execution_count": 4,
   "metadata": {},
   "outputs": [],
   "source": [
    "import h5py\n",
    "import numpy as np\n",
    "import matplotlib.pyplot as plt\n",
    "import pyvibdmc as dmc\n",
    "from pyvibdmc.analysis import *\n",
    "from pyvibdmc.simulation_utilities import *\n",
    "import tensorflow as tf\n",
    "from tensorflow.keras.layers import Dense"
   ]
  },
  {
   "cell_type": "code",
   "execution_count": 5,
   "metadata": {},
   "outputs": [
    {
     "name": "stderr",
     "output_type": "stream",
     "text": [
      "/home/fenris/anaconda3/envs/rosetta/lib/python3.7/site-packages/tensorflow/python/client/session.py:1751: UserWarning: An interactive session is already active. This can cause out-of-memory errors in some cases. You must explicitly call `InteractiveSession.close()` to release resources held by the other session(s).\n",
      "  warnings.warn('An interactive session is already active. This can '\n"
     ]
    }
   ],
   "source": [
    "from tensorflow.compat.v1 import ConfigProto\n",
    "from tensorflow.compat.v1 import InteractiveSession\n",
    "\n",
    "config = ConfigProto()\n",
    "config.gpu_options.allow_growth = True\n",
    "session = InteractiveSession(config=config)"
   ]
  },
  {
   "cell_type": "code",
   "execution_count": 6,
   "metadata": {},
   "outputs": [],
   "source": [
    "def internals_h2o(cds):\n",
    "    analyzer = AnalyzeWfn(cds)\n",
    "    bl1 = analyzer.bond_length(0,2)\n",
    "    bl2 = analyzer.bond_length(1,2)\n",
    "    theta = analyzer.bond_angle(0,2,1)\n",
    "    return np.array((bl1,bl2,theta)).T\n",
    "\n",
    "def h2o_pot(cds):\n",
    "    model = tf.keras.Sequential(\n",
    "    [\n",
    "        tf.keras.Input(shape=(3,)),\n",
    "        Dense(64, activation=tf.nn.swish),\n",
    "        Dense(64, activation=tf.nn.swish),\n",
    "        Dense(64, activation=tf.nn.swish),\n",
    "        Dense(1, activation='linear')\n",
    "    ]\n",
    "    )\n",
    "    optimizer = tf.keras.optimizers.Adam(learning_rate=0.001)\n",
    "\n",
    "    model.compile(optimizer=optimizer,\n",
    "                     loss='mse',\n",
    "                     metrics=[])\n",
    "    model.load_weights('h2o_3x64.h5')\n",
    "    \n",
    "    internal_cds = internals_h2o(cds)\n",
    "    pots_wn = (10**model.predict(internal_cds)).flatten()\n",
    "    return Constants.convert(pots_wn, 'wavenumbers', to_AU=True)"
   ]
  },
  {
   "cell_type": "code",
   "execution_count": 7,
   "metadata": {},
   "outputs": [],
   "source": [
    "water_coord = np.array([[[1.81005599,  0.        ,  0.        ],\n",
    "                       [-0.45344658,  1.75233806,  0.        ],\n",
    "                       [ 0.        ,  0.        ,  0.        ]],\n",
    "                      [[1.81005599,  0.        ,  0.        ],\n",
    "                       [-0.45344658,  1.75233806,  0.        ],\n",
    "                       [ 0.        ,  0.        ,  0.        ]]])\n",
    "int_cd = internals_h2o(water_coord)"
   ]
  },
  {
   "cell_type": "code",
   "execution_count": 8,
   "metadata": {},
   "outputs": [],
   "source": [
    "model = tf.keras.Sequential(\n",
    "[\n",
    "    tf.keras.Input(shape=(3,)),\n",
    "    Dense(64, activation=tf.nn.swish),\n",
    "    Dense(64, activation=tf.nn.swish),\n",
    "    Dense(64, activation=tf.nn.swish),\n",
    "    Dense(1, activation='linear')\n",
    "]\n",
    ")\n",
    "optimizer = tf.keras.optimizers.Adam(learning_rate=0.001)\n",
    "\n",
    "model.compile(optimizer=optimizer,\n",
    "                 loss='mse',\n",
    "                 metrics=[])\n",
    "model.load_weights('h2o_3x64.h5')"
   ]
  },
  {
   "cell_type": "code",
   "execution_count": 9,
   "metadata": {},
   "outputs": [
    {
     "data": {
      "text/plain": [
       "array([2.0583312e-26, 2.0583312e-26], dtype=float32)"
      ]
     },
     "execution_count": 9,
     "metadata": {},
     "output_type": "execute_result"
    }
   ],
   "source": [
    "h2o_pot(water_coord)"
   ]
  },
  {
   "cell_type": "code",
   "execution_count": null,
   "metadata": {},
   "outputs": [],
   "source": []
  }
 ],
 "metadata": {
  "kernelspec": {
   "display_name": "Python 3",
   "language": "python",
   "name": "python3"
  },
  "language_info": {
   "codemirror_mode": {
    "name": "ipython",
    "version": 3
   },
   "file_extension": ".py",
   "mimetype": "text/x-python",
   "name": "python",
   "nbconvert_exporter": "python",
   "pygments_lexer": "ipython3",
   "version": "3.7.9"
  }
 },
 "nbformat": 4,
 "nbformat_minor": 4
}
